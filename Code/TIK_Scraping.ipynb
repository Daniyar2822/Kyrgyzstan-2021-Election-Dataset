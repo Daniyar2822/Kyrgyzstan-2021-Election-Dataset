{
 "cells": [
  {
   "cell_type": "code",
   "execution_count": 5,
   "id": "d38180dc",
   "metadata": {},
   "outputs": [],
   "source": [
    "from selenium import webdriver\n",
    "from selenium.webdriver.common.by import By\n",
    "from selenium.webdriver.support.ui import WebDriverWait\n",
    "from selenium.webdriver.support import expected_conditions as EC\n",
    "import pandas as pd\n",
    "from bs4 import BeautifulSoup\n",
    "import html5lib"
   ]
  },
  {
   "cell_type": "code",
   "execution_count": 6,
   "id": "789c3bad",
   "metadata": {},
   "outputs": [
    {
     "name": "stderr",
     "output_type": "stream",
     "text": [
      "/var/folders/_n/r51n598j38q6fb1g7zhxmvt00000gn/T/ipykernel_52891/477086768.py:3: DeprecationWarning: executable_path has been deprecated, please pass in a Service object\n",
      "  driver = webdriver.Chrome(path)\n"
     ]
    }
   ],
   "source": [
    "website = 'https://newess.shailoo.gov.kg/ru/election/11110/ballot-count?type=UD_DEC&id=190'\n",
    "path = '/Users/Daniyar/Documents/chromedriver-mac-arm64/chromedriver'\n",
    "driver = webdriver.Chrome(path)\n",
    "driver.implicitly_wait(15)\n",
    "driver.get(website)\n"
   ]
  },
  {
   "cell_type": "code",
   "execution_count": 7,
   "id": "5d10b898",
   "metadata": {},
   "outputs": [],
   "source": [
    "but1 = driver.find_element(By.XPATH, \"//*[@id='root']/div/div/div[3]/div[2]/div/div[3]/table/tbody/tr[1]/td[1]/span\")\n",
    "but2 = driver.find_element(By.XPATH, \"//*[@id='root']/div/div/div[3]/div[2]/div/div[3]/table/tbody/tr[2]/td[1]/span\")\n",
    "but3 = driver.find_element(By.XPATH, \"//*[@id='root']/div/div/div[3]/div[2]/div/div[3]/table/tbody/tr[3]/td[1]/span\")\n",
    "but4 = driver.find_element(By.XPATH, \"//*[@id='root']/div/div/div[3]/div[2]/div/div[3]/table/tbody/tr[4]/td[1]/span\")\n",
    "but5 = driver.find_element(By.XPATH, \"//*[@id='root']/div/div/div[3]/div[2]/div/div[3]/table/tbody/tr[5]/td[1]/span\")\n",
    "but6 = driver.find_element(By.XPATH, \"//*[@id='root']/div/div/div[3]/div[2]/div/div[3]/table/tbody/tr[6]/td[1]/span\")\n",
    "but7 = driver.find_element(By.XPATH, \"//*[@id='root']/div/div/div[3]/div[2]/div/div[3]/table/tbody/tr[7]/td[1]/span\")\n",
    "but8 = driver.find_element(By.XPATH, \"//*[@id='root']/div/div/div[3]/div[2]/div/div[3]/table/tbody/tr[8]/td[1]/span\")\n",
    "but9 = driver.find_element(By.XPATH, \"//*[@id='root']/div/div/div[3]/div[2]/div/div[3]/table/tbody/tr[9]/td[1]/span\")\n",
    "but10 = driver.find_element(By.XPATH, \"//*[@id='root']/div/div/div[3]/div[2]/div/div[3]/table/tbody/tr[10]/td[1]/span\")\n",
    "but11 = driver.find_element(By.XPATH, \"//*[@id='root']/div/div/div[3]/div[2]/div/div[3]/table/tbody/tr[11]/td[1]/span\")\n",
    "but12 = driver.find_element(By.XPATH, \"//*[@id='root']/div/div/div[3]/div[2]/div/div[3]/table/tbody/tr[12]/td[1]/span\")\n",
    "but13 = driver.find_element(By.XPATH, \"//*[@id='root']/div/div/div[3]/div[2]/div/div[3]/table/tbody/tr[13]/td[1]/span\")\n",
    "but14 = driver.find_element(By.XPATH, \"//*[@id='root']/div/div/div[3]/div[2]/div/div[3]/table/tbody/tr[14]/td[1]/span\")\n",
    "but15 = driver.find_element(By.XPATH, \"//*[@id='root']/div/div/div[3]/div[2]/div/div[3]/table/tbody/tr[15]/td[1]/span\")\n",
    "but16 = driver.find_element(By.XPATH, \"//*[@id='root']/div/div/div[3]/div[2]/div/div[3]/table/tbody/tr[16]/td[1]/span\")\n",
    "but17 = driver.find_element(By.XPATH, \"//*[@id='root']/div/div/div[3]/div[2]/div/div[3]/table/tbody/tr[17]/td[1]/span\")\n",
    "but18 = driver.find_element(By.XPATH, \"//*[@id='root']/div/div/div[3]/div[2]/div/div[3]/table/tbody/tr[18]/td[1]/span\")\n",
    "but19 = driver.find_element(By.XPATH, \"//*[@id='root']/div/div/div[3]/div[2]/div/div[3]/table/tbody/tr[19]/td[1]/span\")\n",
    "but20 = driver.find_element(By.XPATH, \"//*[@id='root']/div/div/div[3]/div[2]/div/div[3]/table/tbody/tr[20]/td[1]/span\")\n",
    "but21 = driver.find_element(By.XPATH, \"//*[@id='root']/div/div/div[3]/div[2]/div/div[3]/table/tbody/tr[21]/td[1]/span\")\n"
   ]
  },
  {
   "cell_type": "code",
   "execution_count": 8,
   "id": "7b060296",
   "metadata": {},
   "outputs": [],
   "source": [
    "but1.click()\n",
    "but2.click()\n",
    "but3.click()\n",
    "but4.click()\n",
    "but5.click()\n",
    "but6.click()\n",
    "but7.click()\n",
    "but8.click()\n",
    "but9.click()\n",
    "but10.click()\n",
    "but11.click()\n",
    "but12.click()\n",
    "but13.click()\n",
    "but14.click()\n",
    "but15.click()\n",
    "but16.click()\n",
    "but17.click()\n",
    "but18.click()\n",
    "but19.click()\n",
    "but20.click()\n",
    "but21.click()"
   ]
  },
  {
   "cell_type": "code",
   "execution_count": 9,
   "id": "bc543132",
   "metadata": {},
   "outputs": [],
   "source": [
    "soup = BeautifulSoup(driver.page_source)\n",
    "soup_table = soup.find_all(\"table\")[-1]\n",
    "tables = pd.read_html(str(soup_table))\n",
    "table = tables[0]"
   ]
  },
  {
   "cell_type": "code",
   "execution_count": 10,
   "id": "e2ec804d",
   "metadata": {},
   "outputs": [],
   "source": [
    "table.to_csv('MID_sing_dist.csv')"
   ]
  },
  {
   "cell_type": "code",
   "execution_count": 11,
   "id": "6a170e4a",
   "metadata": {},
   "outputs": [],
   "source": [
    "driver.close()"
   ]
  },
  {
   "cell_type": "code",
   "execution_count": null,
   "id": "15d71ff0",
   "metadata": {},
   "outputs": [],
   "source": []
  }
 ],
 "metadata": {
  "kernelspec": {
   "display_name": "Python 3 (ipykernel)",
   "language": "python",
   "name": "python3"
  },
  "language_info": {
   "codemirror_mode": {
    "name": "ipython",
    "version": 3
   },
   "file_extension": ".py",
   "mimetype": "text/x-python",
   "name": "python",
   "nbconvert_exporter": "python",
   "pygments_lexer": "ipython3",
   "version": "3.9.13"
  }
 },
 "nbformat": 4,
 "nbformat_minor": 5
}
